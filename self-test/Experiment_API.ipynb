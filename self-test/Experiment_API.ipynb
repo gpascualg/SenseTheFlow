{
 "cells": [
  {
   "cell_type": "code",
   "execution_count": 1,
   "metadata": {},
   "outputs": [],
   "source": [
    "import sys\n",
    "import os\n",
    "import tqdm\n",
    "import tensorflow as tf\n",
    "\n",
    "\n",
    "pwd = os.getcwd()\n",
    "sys.path.insert(0, os.path.join(pwd, '..', '..'))"
   ]
  },
  {
   "cell_type": "code",
   "execution_count": 2,
   "metadata": {},
   "outputs": [],
   "source": [
    "from SenseTheFlow.experiment import Experiment, FetchMethod, UriType"
   ]
  },
  {
   "cell_type": "code",
   "execution_count": 3,
   "metadata": {},
   "outputs": [
    {
     "data": {
      "application/vnd.jupyter.widget-view+json": {
       "model_id": "fd271eb994934224b406d7c24128c750",
       "version_major": 2,
       "version_minor": 0
      },
      "text/plain": [
       "Select(options=(('-- Select a model --', None), ('-- Create new --', 1), ('-- Remove prev and create new --', …"
      ]
     },
     "metadata": {},
     "output_type": "display_data"
    },
    {
     "data": {
      "application/vnd.jupyter.widget-view+json": {
       "model_id": "a0f5da31b6c84818b77e0ef10e6752e9",
       "version_major": 2,
       "version_minor": 0
      },
      "text/plain": [
       "Output()"
      ]
     },
     "metadata": {},
     "output_type": "display_data"
    }
   ],
   "source": [
    "model = {}\n",
    "\n",
    "with Experiment(model) as experiment:\n",
    "    def once_discovered():\n",
    "        experiment.train()\n",
    "        \n",
    "    experiment.add_data(FetchMethod.COPY, UriType.PERSISTENT, os.path.join(pwd, 'models', 'test-model'))\n",
    "    experiment.run_local(once_discovered)"
   ]
  },
  {
   "cell_type": "code",
   "execution_count": null,
   "metadata": {},
   "outputs": [],
   "source": []
  }
 ],
 "metadata": {
  "kernelspec": {
   "display_name": "Python 3",
   "language": "python",
   "name": "python3"
  },
  "language_info": {
   "codemirror_mode": {
    "name": "ipython",
    "version": 3
   },
   "file_extension": ".py",
   "mimetype": "text/x-python",
   "name": "python",
   "nbconvert_exporter": "python",
   "pygments_lexer": "ipython3",
   "version": "3.7.1"
  }
 },
 "nbformat": 4,
 "nbformat_minor": 2
}
